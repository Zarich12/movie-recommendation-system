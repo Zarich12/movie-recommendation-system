{
 "cells": [
  {
   "cell_type": "code",
   "execution_count": 120,
   "outputs": [],
   "source": [
    "import pandas as pd\n",
    "import numpy as np\n",
    "import requests\n",
    "from sklearn.feature_extraction.text import TfidfVectorizer         ## To vectorize the movie names\n",
    "import re                                                           ## To clean text\n",
    "from sklearn.metrics.pairwise import cosine_similarity              ## To calculate similarity\n",
    "from ipywidgets import  widgets                                     ## To create interactive interface\n",
    "from IPython.display import display                                   ## To create interactive interface\n",
    "from zipfile import ZipFile"
   ],
   "metadata": {
    "collapsed": false,
    "pycharm": {
     "name": "#%%\n"
    }
   }
  },
  {
   "cell_type": "code",
   "execution_count": 121,
   "outputs": [
    {
     "data": {
      "text/plain": "{'data_0': 'C:\\\\Users\\\\yusuf\\\\GitHub\\\\Movie_Recommend\\\\movies.parquet',\n 'data_1': 'C:\\\\Users\\\\yusuf\\\\GitHub\\\\Movie_Recommend\\\\ratings1.parquet'}"
     },
     "execution_count": 121,
     "metadata": {},
     "output_type": "execute_result"
    }
   ],
   "source": [
    "zip = 'data.zip'\n",
    "zip_data = ZipFile(zip)\n",
    "et = {}\n",
    "with zip_data:\n",
    "    for idx, file in enumerate(zip_data.namelist()):\n",
    "        et['data_' + str(idx)] = zip_data.extract(file)\n",
    "et"
   ],
   "metadata": {
    "collapsed": false,
    "pycharm": {
     "name": "#%%\n"
    }
   }
  },
  {
   "cell_type": "code",
   "execution_count": 122,
   "outputs": [],
   "source": [
    "df = pd.read_parquet(et['data_0'])\n",
    "ratings = pd.read_parquet(et['data_1'])\n",
    "# df = df[~df.genres.str.contains('\\(')]"
   ],
   "metadata": {
    "collapsed": false,
    "pycharm": {
     "name": "#%%\n"
    }
   }
  },
  {
   "cell_type": "code",
   "execution_count": 123,
   "outputs": [],
   "source": [
    "# df[~df.genres.str.contains('\\(')]"
   ],
   "metadata": {
    "collapsed": false,
    "pycharm": {
     "name": "#%%\n"
    }
   }
  },
  {
   "cell_type": "code",
   "execution_count": 124,
   "outputs": [],
   "source": [
    "def clean_title(x):                                             ## Create a function\n",
    "    return re.sub('[^\\w ]','',x)                               ## This code removes anything except numbers,letters and blanks"
   ],
   "metadata": {
    "collapsed": false,
    "pycharm": {
     "name": "#%%\n"
    }
   }
  },
  {
   "cell_type": "code",
   "execution_count": 125,
   "outputs": [],
   "source": [
    "df['clean_title']=df.title.apply(lambda x:clean_title(x.strip()))                  ## Use the function to clean the title text in each row."
   ],
   "metadata": {
    "collapsed": false,
    "pycharm": {
     "name": "#%%\n"
    }
   }
  },
  {
   "cell_type": "code",
   "execution_count": 126,
   "outputs": [],
   "source": [
    "vec = TfidfVectorizer(ngram_range=(1,2))                      ## Vectorizer converts the test into numpy arrays, it takes single words and word pairs into consideration\n",
    "vec_data=vec.fit_transform(df.clean_title)                    ## Transform the cleaned text column"
   ],
   "metadata": {
    "collapsed": false,
    "pycharm": {
     "name": "#%%\n"
    }
   }
  },
  {
   "cell_type": "code",
   "execution_count": 127,
   "outputs": [],
   "source": [
    "def search(query):\n",
    "    query = clean_title(query)                             ## Clean the variable passed in the function\n",
    "    query = vec.transform([query])                           ## Vectorize the variable   **  Only transform **\n",
    "    similarity = cosine_similarity(query,vec_data).flatten()             ## Calculate the  similarity score\n",
    "    # locs = np.append(np.argpartition(similarity,-10)[-10:],np.argmax(similarity))      ## Find 10 indices with the highest score\n",
    "    locs = np.argsort(similarity)[-10:]   ## Find 10 indices with the highest score\n",
    "    movies = df.iloc[locs][::-1].drop_duplicates()              ## Pass the indices in the movie data frame and create a new data frame.\n",
    "    return movies                                          ## Return the data frame"
   ],
   "metadata": {
    "collapsed": false,
    "pycharm": {
     "name": "#%%\n"
    }
   }
  },
  {
   "cell_type": "code",
   "execution_count": 128,
   "outputs": [
    {
     "data": {
      "text/plain": "       movieId                          title                       genres  \\\n27811   130219         The Dark Knight (2011)  Action|Crime|Drama|Thriller   \n12221    58559        Dark Knight, The (2008)      Action|Crime|Drama|IMAX   \n17464    91529  Dark Knight Rises, The (2012)  Action|Adventure|Crime|IMAX   \n4793      4899            Black Knight (2001)     Adventure|Comedy|Fantasy   \n166        168            First Knight (1995)         Action|Drama|Romance   \n28055   130820           Street Knight (1993)           (no genres listed)   \n46381   172327            Knight Rider (2008)           (no genres listed)   \n33974   144392       Underdog Knight 2 (2011)                       Action   \n6881      7006            Knight Moves (1992)             Mystery|Thriller   \n26083   125147        The Black Knight (1954)             Action|Adventure   \n\n                      clean_title  \n27811        The Dark Knight 2011  \n12221        Dark Knight The 2008  \n17464  Dark Knight Rises The 2012  \n4793            Black Knight 2001  \n166             First Knight 1995  \n28055          Street Knight 1993  \n46381           Knight Rider 2008  \n33974      Underdog Knight 2 2011  \n6881            Knight Moves 1992  \n26083       The Black Knight 1954  ",
      "text/html": "<div>\n<style scoped>\n    .dataframe tbody tr th:only-of-type {\n        vertical-align: middle;\n    }\n\n    .dataframe tbody tr th {\n        vertical-align: top;\n    }\n\n    .dataframe thead th {\n        text-align: right;\n    }\n</style>\n<table border=\"1\" class=\"dataframe\">\n  <thead>\n    <tr style=\"text-align: right;\">\n      <th></th>\n      <th>movieId</th>\n      <th>title</th>\n      <th>genres</th>\n      <th>clean_title</th>\n    </tr>\n  </thead>\n  <tbody>\n    <tr>\n      <th>27811</th>\n      <td>130219</td>\n      <td>The Dark Knight (2011)</td>\n      <td>Action|Crime|Drama|Thriller</td>\n      <td>The Dark Knight 2011</td>\n    </tr>\n    <tr>\n      <th>12221</th>\n      <td>58559</td>\n      <td>Dark Knight, The (2008)</td>\n      <td>Action|Crime|Drama|IMAX</td>\n      <td>Dark Knight The 2008</td>\n    </tr>\n    <tr>\n      <th>17464</th>\n      <td>91529</td>\n      <td>Dark Knight Rises, The (2012)</td>\n      <td>Action|Adventure|Crime|IMAX</td>\n      <td>Dark Knight Rises The 2012</td>\n    </tr>\n    <tr>\n      <th>4793</th>\n      <td>4899</td>\n      <td>Black Knight (2001)</td>\n      <td>Adventure|Comedy|Fantasy</td>\n      <td>Black Knight 2001</td>\n    </tr>\n    <tr>\n      <th>166</th>\n      <td>168</td>\n      <td>First Knight (1995)</td>\n      <td>Action|Drama|Romance</td>\n      <td>First Knight 1995</td>\n    </tr>\n    <tr>\n      <th>28055</th>\n      <td>130820</td>\n      <td>Street Knight (1993)</td>\n      <td>(no genres listed)</td>\n      <td>Street Knight 1993</td>\n    </tr>\n    <tr>\n      <th>46381</th>\n      <td>172327</td>\n      <td>Knight Rider (2008)</td>\n      <td>(no genres listed)</td>\n      <td>Knight Rider 2008</td>\n    </tr>\n    <tr>\n      <th>33974</th>\n      <td>144392</td>\n      <td>Underdog Knight 2 (2011)</td>\n      <td>Action</td>\n      <td>Underdog Knight 2 2011</td>\n    </tr>\n    <tr>\n      <th>6881</th>\n      <td>7006</td>\n      <td>Knight Moves (1992)</td>\n      <td>Mystery|Thriller</td>\n      <td>Knight Moves 1992</td>\n    </tr>\n    <tr>\n      <th>26083</th>\n      <td>125147</td>\n      <td>The Black Knight (1954)</td>\n      <td>Action|Adventure</td>\n      <td>The Black Knight 1954</td>\n    </tr>\n  </tbody>\n</table>\n</div>"
     },
     "execution_count": 128,
     "metadata": {},
     "output_type": "execute_result"
    }
   ],
   "source": [
    "search('Dark knight')                       ## Try the function"
   ],
   "metadata": {
    "collapsed": false,
    "pycharm": {
     "name": "#%%\n"
    }
   }
  },
  {
   "cell_type": "code",
   "execution_count": 129,
   "outputs": [
    {
     "data": {
      "text/plain": "Text(value='Toy Story', description='Movie Title')",
      "application/vnd.jupyter.widget-view+json": {
       "version_major": 2,
       "version_minor": 0,
       "model_id": "d9624645b2014c69bc0991a9fd30c82c"
      }
     },
     "metadata": {},
     "output_type": "display_data"
    },
    {
     "data": {
      "text/plain": "Output()",
      "application/vnd.jupyter.widget-view+json": {
       "version_major": 2,
       "version_minor": 0,
       "model_id": "596cbb8cfcc245f5ba48d6067e8af5a4"
      }
     },
     "metadata": {},
     "output_type": "display_data"
    }
   ],
   "source": [
    "movie_input = widgets.Text(value = 'Toy Story',                                 ## Create a widget for an interactive interface\n",
    "                           description = 'Movie Title',\n",
    "                           disabled = False)\n",
    "movie_list = widgets.Output()\n",
    "\n",
    "def on_type(data):\n",
    "    with movie_list:\n",
    "        movie_list.clear_output()\n",
    "        # display(data)\n",
    "        title = data['new']\n",
    "        if len(title)>3:\n",
    "            display(search(title))\n",
    "\n",
    "\n",
    "movie_input.observe(on_type, names='value')\n",
    "display(movie_input, movie_list)"
   ],
   "metadata": {
    "collapsed": false,
    "pycharm": {
     "name": "#%%\n"
    }
   }
  },
  {
   "cell_type": "code",
   "execution_count": 130,
   "outputs": [],
   "source": [
    "def recommendation(movie_id):\n",
    "    ## Get userIds of people who liked the movie registered with the specified movie id. We can assume those users are similar users. I will refer this group as similar users to make things clear.\n",
    "    similar_users = ratings[(ratings.movieId==movie_id) & (ratings.rating>4)]['userId'].unique()\n",
    "    ## Collect the Ids of the other movies that similar people liked. Assume that similar people generally like similar movies.\n",
    "    recs = ratings[(ratings.userId.isin(similar_users)==True) & (ratings.rating>4)]['movieId']\n",
    "    ## Calculate which movie is liked how many times by similar users and divide it to the total number of the group. It shows us the percentage of people who like the movie\n",
    "    recs = recs.value_counts() / len(similar_users)\n",
    "    ## Filter the movies that are liked by at least %10 of the group.\n",
    "    recs = recs[recs > 0.1]\n",
    "    ## The data that show all users who liked the movies that the at least % 10 of the similar users also liked.\n",
    "    all_=ratings[(ratings.movieId.isin(recs.index)==True) & (ratings.rating>4)]\n",
    "    ## Calculate the ratio of the total population who liked the movies that the similar users liked.\n",
    "    all_recs=all_['movieId'].value_counts()/len(all_['userId'].unique())\n",
    "    ## Concatenate the ratio tables to see the comparison\n",
    "    combined_recs = pd.concat([recs,all_recs],axis=1)\n",
    "    ## Rename columns\n",
    "    combined_recs.columns = ['similar','all']\n",
    "    ## To calculate the score we use the percentages. If a movie is liked by similar people but not popular among the total population, it is assumed to be a better recommendation, because recommendation, in its nature, is valuable when the asker do not know about the movie. So we take the raio between the score among the similar people and the total population; the score is amplified when divided.\n",
    "    combined_recs['score'] = 2*combined_recs['similar'] + combined_recs['all']\n",
    "    ## Sort the data frame by score\n",
    "    combined_recs=combined_recs.sort_values('score',ascending=False)\n",
    "    ## Merge scores and the movies data frames on movieId column, filter 3 columns and the first 10 rows.\n",
    "\n",
    "    results = combined_recs.merge(df,left_index=True,right_on='movieId')[['title','genres','score']]\n",
    "\n",
    "    genr = results.genres.iloc[0].split('|')\n",
    "\n",
    "    frame = results.genres.apply(lambda x: 1 if len([k for k in genr if k in x.split('|')])>0 else 0)\n",
    "\n",
    "    idx = frame[frame==1].index\n",
    "\n",
    "    return results[results.index.isin(idx)].head(20)"
   ],
   "metadata": {
    "collapsed": false,
    "pycharm": {
     "name": "#%%\n"
    }
   }
  },
  {
   "cell_type": "code",
   "execution_count": 131,
   "outputs": [
    {
     "data": {
      "text/plain": "Text(value='Toy Story', description='Movie Title:')",
      "application/vnd.jupyter.widget-view+json": {
       "version_major": 2,
       "version_minor": 0,
       "model_id": "ddd52d166fd843c6a21a35dbcb320a73"
      }
     },
     "metadata": {},
     "output_type": "display_data"
    },
    {
     "data": {
      "text/plain": "Output()",
      "application/vnd.jupyter.widget-view+json": {
       "version_major": 2,
       "version_minor": 0,
       "model_id": "77ecbb114e654517943e0da16f9cf7ef"
      }
     },
     "metadata": {},
     "output_type": "display_data"
    }
   ],
   "source": [
    "movie_input_name = widgets.Text(          ## Create a text input widget\n",
    "    value='Toy Story',                         ## initial value\n",
    "    description = 'Movie Title:',\n",
    "    disabled = False)\n",
    "\n",
    "recommendation_list = widgets.Output()\n",
    "def on_type(data):\n",
    "    with recommendation_list:\n",
    "        recommendation_list.clear_output()\n",
    "        title= data['new']\n",
    "        if len(title)>3:\n",
    "            results = search(title)\n",
    "            movie_id = results.iloc[0]['movieId']\n",
    "            display(recommendation(movie_id))\n",
    "\n",
    "movie_input_name.observe(on_type,names='value')\n",
    "display(movie_input_name,recommendation_list)"
   ],
   "metadata": {
    "collapsed": false,
    "pycharm": {
     "name": "#%%\n"
    }
   }
  },
  {
   "cell_type": "code",
   "execution_count": 132,
   "outputs": [],
   "source": [
    "def recommendation1(movie_id):\n",
    "    ## Get userIds of people who liked the movie registered with the specified movie id. We can assume those users are similar users. I will refer this group as similar users to make things clear.\n",
    "    similar_users = ratings[(ratings.movieId==movie_id) & (ratings.rating>4)]['userId'].unique()\n",
    "    ## Collect the Ids of the other movies that similar people liked. Assume that similar people generally like similar movies.\n",
    "    recs = ratings[(ratings.userId.isin(similar_users)==True) & (ratings.rating>4)]['movieId']\n",
    "    ## Calculate which movie is liked how many times by similar users and divide it to the total number of the group. It shows us the percentage of people who like the movie\n",
    "    recs = recs.value_counts() / len(similar_users)\n",
    "    ## Filter the movies that are liked by at least %10 of the group.\n",
    "    recs = recs[recs > 0.1]\n",
    "    ## The data that show all users who liked the movies that the at least % 10 of the similar users also liked.\n",
    "    all_=ratings[(ratings.movieId.isin(recs.index)==True) & (ratings.rating>4)]\n",
    "    ## Calculate the ratio of the total population who liked the movies that the similar users liked.\n",
    "    all_recs=all_['movieId'].value_counts()/len(all_['userId'].unique())\n",
    "    ## Concatenate the ratio tables to see the comparison\n",
    "    combined_recs = pd.concat([recs,all_recs],axis=1)\n",
    "    ## Rename columns\n",
    "    combined_recs.columns = ['similar','all']\n",
    "    ## To calculate the score we use the percentages. If a movie is liked by similar people but not popular among the total population, it is assumed to be a better recommendation, because recommendation, in its nature, is valuable when the asker do not know about the movie. So we take the raio between the score among the similar people and the total population; the score is amplified when divided.\n",
    "    combined_recs['score'] = combined_recs['similar'] / combined_recs['all']\n",
    "    ## Sort the data frame by score\n",
    "    combined_recs=combined_recs.sort_values('score',ascending=False)\n",
    "    ## Merge scores and the movies data frames on movieId column, filter 3 columns and the first 10 rows.\n",
    "\n",
    "    results = combined_recs.merge(df,left_index=True,right_on='movieId')[['title','genres','score']]\n",
    "\n",
    "    return results\n",
    "\n",
    "    # genr = results.genres.iloc[0].split('|')\n",
    "    #\n",
    "    # frame = results.genres.apply(lambda x: 1 if len([k for k in genr if k in x.split('|')])>0 else 0)\n",
    "    #\n",
    "    # idx = frame[frame==1].index\n",
    "    #\n",
    "    # return results[results.index.isin(idx)].head(20)"
   ],
   "metadata": {
    "collapsed": false,
    "pycharm": {
     "name": "#%%\n"
    }
   }
  },
  {
   "cell_type": "code",
   "execution_count": 133,
   "outputs": [],
   "source": [
    "te = recommendation1(2026).genres.iloc[0].split('|')\n",
    "frr = recommendation1(2026).genres.apply(lambda x: 1 if len([k for k in te if k in x.split('|')])>0 else 0 )\n",
    "ids = frr[frr==1].index"
   ],
   "metadata": {
    "collapsed": false,
    "pycharm": {
     "name": "#%%\n"
    }
   }
  },
  {
   "cell_type": "code",
   "execution_count": 134,
   "outputs": [
    {
     "data": {
      "text/plain": "                                        title                       genres  \\\n1937               Disturbing Behavior (1998)              Horror|Thriller   \n2457               Rage: Carrie 2, The (1999)                       Horror   \n2188                      Urban Legend (1998)              Horror|Thriller   \n2224  Bride of Chucky (Child's Play 4) (1998)       Comedy|Horror|Thriller   \n2714              Teaching Mrs. Tingle (1999)              Comedy|Thriller   \n...                                       ...                          ...   \n536                       Blade Runner (1982)       Action|Sci-Fi|Thriller   \n49                 Usual Suspects, The (1995)       Crime|Mystery|Thriller   \n600                              Fargo (1996)  Comedy|Crime|Drama|Thriller   \n292                       Pulp Fiction (1994)  Comedy|Crime|Drama|Thriller   \n4122                           Memento (2000)             Mystery|Thriller   \n\n            score  \n1937  3210.250000  \n2457   987.769231  \n2188   428.033333  \n2224   396.327160  \n2714   391.493902  \n...           ...  \n536      1.109150  \n49       1.060223  \n600      1.031287  \n292      0.821456  \n4122     0.805543  \n\n[210 rows x 3 columns]",
      "text/html": "<div>\n<style scoped>\n    .dataframe tbody tr th:only-of-type {\n        vertical-align: middle;\n    }\n\n    .dataframe tbody tr th {\n        vertical-align: top;\n    }\n\n    .dataframe thead th {\n        text-align: right;\n    }\n</style>\n<table border=\"1\" class=\"dataframe\">\n  <thead>\n    <tr style=\"text-align: right;\">\n      <th></th>\n      <th>title</th>\n      <th>genres</th>\n      <th>score</th>\n    </tr>\n  </thead>\n  <tbody>\n    <tr>\n      <th>1937</th>\n      <td>Disturbing Behavior (1998)</td>\n      <td>Horror|Thriller</td>\n      <td>3210.250000</td>\n    </tr>\n    <tr>\n      <th>2457</th>\n      <td>Rage: Carrie 2, The (1999)</td>\n      <td>Horror</td>\n      <td>987.769231</td>\n    </tr>\n    <tr>\n      <th>2188</th>\n      <td>Urban Legend (1998)</td>\n      <td>Horror|Thriller</td>\n      <td>428.033333</td>\n    </tr>\n    <tr>\n      <th>2224</th>\n      <td>Bride of Chucky (Child's Play 4) (1998)</td>\n      <td>Comedy|Horror|Thriller</td>\n      <td>396.327160</td>\n    </tr>\n    <tr>\n      <th>2714</th>\n      <td>Teaching Mrs. Tingle (1999)</td>\n      <td>Comedy|Thriller</td>\n      <td>391.493902</td>\n    </tr>\n    <tr>\n      <th>...</th>\n      <td>...</td>\n      <td>...</td>\n      <td>...</td>\n    </tr>\n    <tr>\n      <th>536</th>\n      <td>Blade Runner (1982)</td>\n      <td>Action|Sci-Fi|Thriller</td>\n      <td>1.109150</td>\n    </tr>\n    <tr>\n      <th>49</th>\n      <td>Usual Suspects, The (1995)</td>\n      <td>Crime|Mystery|Thriller</td>\n      <td>1.060223</td>\n    </tr>\n    <tr>\n      <th>600</th>\n      <td>Fargo (1996)</td>\n      <td>Comedy|Crime|Drama|Thriller</td>\n      <td>1.031287</td>\n    </tr>\n    <tr>\n      <th>292</th>\n      <td>Pulp Fiction (1994)</td>\n      <td>Comedy|Crime|Drama|Thriller</td>\n      <td>0.821456</td>\n    </tr>\n    <tr>\n      <th>4122</th>\n      <td>Memento (2000)</td>\n      <td>Mystery|Thriller</td>\n      <td>0.805543</td>\n    </tr>\n  </tbody>\n</table>\n<p>210 rows × 3 columns</p>\n</div>"
     },
     "execution_count": 134,
     "metadata": {},
     "output_type": "execute_result"
    }
   ],
   "source": [
    "recommendation1(2026)[recommendation1(2026).index.isin(ids)]"
   ],
   "metadata": {
    "collapsed": false,
    "pycharm": {
     "name": "#%%\n"
    }
   }
  },
  {
   "cell_type": "code",
   "execution_count": 134,
   "outputs": [],
   "source": [],
   "metadata": {
    "collapsed": false,
    "pycharm": {
     "name": "#%%\n"
    }
   }
  }
 ],
 "metadata": {
  "kernelspec": {
   "display_name": "Python 3",
   "language": "python",
   "name": "python3"
  },
  "language_info": {
   "codemirror_mode": {
    "name": "ipython",
    "version": 2
   },
   "file_extension": ".py",
   "mimetype": "text/x-python",
   "name": "python",
   "nbconvert_exporter": "python",
   "pygments_lexer": "ipython2",
   "version": "2.7.6"
  }
 },
 "nbformat": 4,
 "nbformat_minor": 0
}